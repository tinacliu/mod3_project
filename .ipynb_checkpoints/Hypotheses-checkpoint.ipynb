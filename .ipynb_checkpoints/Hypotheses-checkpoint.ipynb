{
 "cells": [
  {
   "cell_type": "code",
   "execution_count": 1,
   "metadata": {},
   "outputs": [],
   "source": [
    "import numpy as np\n",
    "import pandas as pd\n",
    "from scipy import stats\n",
    "from scipy.stats import norm\n",
    "\n",
    "import data_cleaning as dc\n",
    "import api\n",
    "import hypothesis_tests as ht\n",
    "import visualizations as vis\n",
    "\n",
    "import seaborn as sns\n",
    "import matplotlib.pyplot as plt\n",
    "sns.set_style('whitegrid')\n",
    "\n",
    "%config InlineBackend.figure_format = 'retina'\n",
    "%matplotlib inline\n",
    "%load_ext autoreload\n",
    "%autoreload 2"
   ]
  },
  {
   "cell_type": "code",
   "execution_count": 2,
   "metadata": {},
   "outputs": [],
   "source": [
    "#Import DF\n",
    "df = dc.full_clean()"
   ]
  },
  {
   "cell_type": "markdown",
   "metadata": {},
   "source": [
    "Hypothesis 2:\n",
    "- H0: Air quality of Havering = Air quality of City of London\n",
    "- H1: Air quality of Havering> Air quality of City of London\n",
    "\n",
    "We selected the boroughs with highest and lowest Greenspace - Havering and City of London, and took ** samples from our API. \n",
    "\n",
    "As our P-Value is not less than our alpha value, we are acceting the Null Hypothesis, H0, and concluding that there is no significant difference between samples. Our Cohen's D value shows a high effect size, and our visualisations show there is a large amount of overlap between samples."
   ]
  },
  {
   "cell_type": "code",
   "execution_count": 3,
   "metadata": {},
   "outputs": [],
   "source": [
    "#Call API for each Borough\n",
    "x1 = ht.generate_datapoints('Havering')\n",
    "x2 = ht.generate_datapoints('City of London')"
   ]
  },
  {
   "cell_type": "code",
   "execution_count": 4,
   "metadata": {},
   "outputs": [
    {
     "data": {
      "text/plain": [
       "((84.5, 0.5, 0.25), (75.5, 1.5, 2.25))"
      ]
     },
     "execution_count": 4,
     "metadata": {},
     "output_type": "execute_result"
    }
   ],
   "source": [
    "# Find mean, variance and standard deviation of each sample\n",
    "ht.sample_mu_std_var(x1), ht.sample_mu_std_var(x2)"
   ]
  },
  {
   "cell_type": "code",
   "execution_count": 5,
   "metadata": {},
   "outputs": [
    {
     "data": {
      "image/png": "[encoded data removed]",
      "text/plain": [
       "<Figure size 432x288 with 1 Axes>"
      ]
     },
     "metadata": {
      "image/png": {
       "height": 248,
       "width": 370
      },
      "needs_background": "light"
     },
     "output_type": "display_data"
    }
   ],
   "source": [
    "#Visually inspecting the distributions for differences in mean and standard deviation\n",
    "vis.distplots(x1, x2)"
   ]
  },
  {
   "cell_type": "code",
   "execution_count": 9,
   "metadata": {},
   "outputs": [
    {
     "name": "stdout",
     "output_type": "stream",
     "text": [
      "T-Stat:  5.692099788303082  P-Val:  0.07962957132308766\n"
     ]
    }
   ],
   "source": [
    "#Finding the T Value and P Value\n",
    "stat = ht.twosample_tstatistic(x1, x2)\n",
    "ht.print_stats(stat)"
   ]
  },
  {
   "cell_type": "code",
   "execution_count": null,
   "metadata": {},
   "outputs": [],
   "source": [
    "#Calculate effect size\n",
    "ht.Cohen_d(x1, x2)"
   ]
  },
  {
   "cell_type": "code",
   "execution_count": null,
   "metadata": {},
   "outputs": [],
   "source": [
    "#Assign averages to variables\n",
    "x1m = np.mean(x1)\n",
    "x1s = np.std(x1)\n",
    "x2m = np.mean(x2)\n",
    "x2s = np.std(x2)"
   ]
  },
  {
   "cell_type": "code",
   "execution_count": null,
   "metadata": {},
   "outputs": [],
   "source": [
    "#Create normal distributions from mean and std of each sample\n",
    "x1n = ht.normals(x1m, x1s)\n",
    "x2n = ht.normals(x2m, x2s)"
   ]
  },
  {
   "cell_type": "code",
   "execution_count": null,
   "metadata": {},
   "outputs": [],
   "source": [
    "#Plotting PDF \n",
    "vis.pdf_plot('Havering', 'City of London', x1n, x2n)"
   ]
  },
  {
   "cell_type": "code",
   "execution_count": 15,
   "metadata": {},
   "outputs": [
    {
     "data": {
      "text/plain": [
       "'Fail to reject'"
      ]
     },
     "execution_count": 15,
     "metadata": {},
     "output_type": "execute_result"
    }
   ],
   "source": [
    "#Compare P Value and Alpha \n",
    "p_val = stat.pvalue\n",
    "alpha = 0.05\n",
    "ht.compare_pval_alpha(p_val, alpha)"
   ]
  },
  {
   "cell_type": "markdown",
   "metadata": {},
   "source": [
    "Hypothesis 3:\n",
    "- H0: Air quality of borough of interest 1 = Air quality of borough of interest 2\n",
    "- H1: Air quality of borough of interest 1 > Air quality of borough of interest 2\n",
    "\n",
    "Areas of interest are defined as:\n",
    "Boroughs with highest and lowest House Prices - 'Kensington and Chelsea' and 'Barking and Dagenham'"
   ]
  },
  {
   "cell_type": "code",
   "execution_count": null,
   "metadata": {},
   "outputs": [],
   "source": [
    "#Call API for each Borough\n",
    "x1 = ht.generate_datapoints('Kensington and Chelsea')\n",
    "x2 = ht.generate_datapoints('Barking and Dagenham')"
   ]
  },
  {
   "cell_type": "code",
   "execution_count": null,
   "metadata": {},
   "outputs": [],
   "source": [
    "# Find mean, variance and standard deviation of each sample\n",
    "ht.sample_mu_std_var(x1), ht.sample_mu_std_var(x2)"
   ]
  },
  {
   "cell_type": "code",
   "execution_count": null,
   "metadata": {},
   "outputs": [],
   "source": [
    "#Visually inspecting the distributions for differences in mean and standard deviation\n",
    "vis.distplots(x1, x2)"
   ]
  },
  {
   "cell_type": "code",
   "execution_count": null,
   "metadata": {},
   "outputs": [],
   "source": [
    "#Finding the T Value and P Value\n",
    "stats = ht.twosample_tstatistic(x1, x2)"
   ]
  },
  {
   "cell_type": "code",
   "execution_count": null,
   "metadata": {},
   "outputs": [],
   "source": [
    "#Calculate effect size\n",
    "ht.Cohen_d(x1, x2)"
   ]
  },
  {
   "cell_type": "code",
   "execution_count": null,
   "metadata": {},
   "outputs": [],
   "source": [
    "#Assign averages to variables\n",
    "x1m = np.mean(x1)\n",
    "x1s = np.std(x1)\n",
    "x2m = np.mean(x2)\n",
    "x2s = np.std(x2)"
   ]
  },
  {
   "cell_type": "code",
   "execution_count": null,
   "metadata": {},
   "outputs": [],
   "source": [
    "#Create normal distributions from mean and std of each sample\n",
    "x1n = ht.normals(x1m, x1s)\n",
    "x2n = ht.normals(x2m, x2s)"
   ]
  },
  {
   "cell_type": "code",
   "execution_count": null,
   "metadata": {},
   "outputs": [],
   "source": [
    "#Plotting PDF \n",
    "vis.pdf_plot('Kensington and Chelsea', 'Barking and Dagenham', x1n, x2n)"
   ]
  }
 ],
 "metadata": {
  "kernelspec": {
   "display_name": "Python 3",
   "language": "python",
   "name": "python3"
  },
  "language_info": {
   "codemirror_mode": {
    "name": "ipython",
    "version": 3
   },
   "file_extension": ".py",
   "mimetype": "text/x-python",
   "name": "python",
   "nbconvert_exporter": "python",
   "pygments_lexer": "ipython3",
   "version": "3.7.3"
  }
 },
 "nbformat": 4,
 "nbformat_minor": 2
}
