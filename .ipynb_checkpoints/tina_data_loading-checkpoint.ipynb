{
 "cells": [
  {
   "cell_type": "markdown",
   "metadata": {},
   "source": [
    "<center><h2> Module 3 Project</h2></center>\n",
    "<center><h2> Data Loading & Cleaning</h2></center>\n",
    "\n"
   ]
  },
  {
   "cell_type": "markdown",
   "metadata": {},
   "source": [
    "In terms of our dataset, we are combing data on the boroughs of London, together with air quality and pollent data, to advise potential homebuyers.\n",
    "\n",
    "The borough related data contains 85 columns, including demographic data. However we are only keeping 19 columns, in particular these columns are related \n",
    "\n",
    "<h4>(1) potential drivers of air quality</h4>\n",
    "\n",
    "- Population density (per hectare) 2016\n",
    "- % of area that is Greenspace, 2005\n",
    "- Total carbon emissions (2013)\n",
    "- Number of cars, (2011 Census)\n",
    "\n",
    "<h4>(2) factual info that potential homebuyers would be interested to know</h4>\n",
    "\n",
    "- Unemployment rate (2015)\n",
    "- Number of active businesses, 2014\n",
    "- Crime rates per thousand population 2014/15\n",
    "- Median House Price, 2014\n",
    "- Average Band D Council Tax charge (£), 2015/16\n",
    "- Rented from Local Authority or Housing Association, (2014) %\n",
    "- Average Public Transport Accessibility score, 2014\n",
    "- Achievement of 5 or more A*- C grades at GCSE or equivalent including English and Maths, 2013/14\n",
    "- Political control in council\n",
    "\n",
    "<h4>(3) Survey data of residents</h4>\n",
    "\n",
    "- Life satisfaction score 2011-14 (out of 10)\n",
    "- Happiness score 2011-14 (out of 10)\n",
    "- Anxiety score 2011-14 (out of 10)\n"
   ]
  },
  {
   "cell_type": "code",
   "execution_count": 2,
   "metadata": {},
   "outputs": [],
   "source": [
    "%load_ext autoreload\n",
    "%autoreload 2"
   ]
  },
  {
   "cell_type": "code",
   "execution_count": 3,
   "metadata": {},
   "outputs": [],
   "source": [
    "import pandas as pd\n",
    "import data_cleaning as dc\n",
    "import api\n",
    "\n",
    "\n",
    "# RUN THIS ONLY ONCE, afterwards, read_csv\n",
    "# borough_data = dc.full_clean()\n",
    "borough_data = pd.read_csv('./data/borough_data_cleaned_coordi.csv',index_col=0)"
   ]
  },
  {
   "cell_type": "code",
   "execution_count": 5,
   "metadata": {},
   "outputs": [
    {
     "data": {
      "text/html": [
       "<div>\n",
       "<style scoped>\n",
       "    .dataframe tbody tr th:only-of-type {\n",
       "        vertical-align: middle;\n",
       "    }\n",
       "\n",
       "    .dataframe tbody tr th {\n",
       "        vertical-align: top;\n",
       "    }\n",
       "\n",
       "    .dataframe thead th {\n",
       "        text-align: right;\n",
       "    }\n",
       "</style>\n",
       "<table border=\"1\" class=\"dataframe\">\n",
       "  <thead>\n",
       "    <tr style=\"text-align: right;\">\n",
       "      <th></th>\n",
       "      <th>code</th>\n",
       "      <th>area</th>\n",
       "      <th>inner_outer</th>\n",
       "      <th>population</th>\n",
       "      <th>unemployment</th>\n",
       "      <th>active_business</th>\n",
       "      <th>crime</th>\n",
       "      <th>house_price</th>\n",
       "      <th>council_tax</th>\n",
       "      <th>council_rental</th>\n",
       "      <th>greenspace</th>\n",
       "      <th>carbon_emmision</th>\n",
       "      <th>cars</th>\n",
       "      <th>pub_transport</th>\n",
       "      <th>achievement</th>\n",
       "      <th>life</th>\n",
       "      <th>happiness</th>\n",
       "      <th>anxiety</th>\n",
       "      <th>political</th>\n",
       "      <th>coordi</th>\n",
       "    </tr>\n",
       "  </thead>\n",
       "  <tbody>\n",
       "    <tr>\n",
       "      <th>0</th>\n",
       "      <td>E09000001</td>\n",
       "      <td>City of London</td>\n",
       "      <td>Inner London</td>\n",
       "      <td>28.9</td>\n",
       "      <td>.</td>\n",
       "      <td>19250</td>\n",
       "      <td>.</td>\n",
       "      <td>765000</td>\n",
       "      <td>943</td>\n",
       "      <td>.</td>\n",
       "      <td>4.8</td>\n",
       "      <td>1417.5</td>\n",
       "      <td>1692</td>\n",
       "      <td>7.9</td>\n",
       "      <td>78.6</td>\n",
       "      <td>6.59</td>\n",
       "      <td>5.99</td>\n",
       "      <td>5.57</td>\n",
       "      <td>.</td>\n",
       "      <td>[[51.513988, -0.104885]]</td>\n",
       "    </tr>\n",
       "    <tr>\n",
       "      <th>1</th>\n",
       "      <td>E09000002</td>\n",
       "      <td>Barking and Dagenham</td>\n",
       "      <td>Outer London</td>\n",
       "      <td>57.3</td>\n",
       "      <td>11</td>\n",
       "      <td>5690</td>\n",
       "      <td>83.4</td>\n",
       "      <td>215000</td>\n",
       "      <td>1332</td>\n",
       "      <td>35.9</td>\n",
       "      <td>33.6</td>\n",
       "      <td>783.2</td>\n",
       "      <td>56966</td>\n",
       "      <td>3.0</td>\n",
       "      <td>58.0</td>\n",
       "      <td>7.14</td>\n",
       "      <td>7.05</td>\n",
       "      <td>3.05</td>\n",
       "      <td>Lab</td>\n",
       "      <td>[[51.55903, 0.155831]]</td>\n",
       "    </tr>\n",
       "    <tr>\n",
       "      <th>2</th>\n",
       "      <td>E09000003</td>\n",
       "      <td>Barnet</td>\n",
       "      <td>Outer London</td>\n",
       "      <td>44.5</td>\n",
       "      <td>8.5</td>\n",
       "      <td>24555</td>\n",
       "      <td>62.7</td>\n",
       "      <td>400000</td>\n",
       "      <td>1397</td>\n",
       "      <td>11.1</td>\n",
       "      <td>41.3</td>\n",
       "      <td>1552.7</td>\n",
       "      <td>144717</td>\n",
       "      <td>3.0</td>\n",
       "      <td>67.3</td>\n",
       "      <td>7.48</td>\n",
       "      <td>7.37</td>\n",
       "      <td>2.75</td>\n",
       "      <td>Cons</td>\n",
       "      <td>[[51.658724, -0.190878]]</td>\n",
       "    </tr>\n",
       "    <tr>\n",
       "      <th>3</th>\n",
       "      <td>E09000004</td>\n",
       "      <td>Bexley</td>\n",
       "      <td>Outer London</td>\n",
       "      <td>39.9</td>\n",
       "      <td>7.6</td>\n",
       "      <td>8430</td>\n",
       "      <td>51.8</td>\n",
       "      <td>250000</td>\n",
       "      <td>1446</td>\n",
       "      <td>15.2</td>\n",
       "      <td>31.7</td>\n",
       "      <td>1060.9</td>\n",
       "      <td>108507</td>\n",
       "      <td>2.6</td>\n",
       "      <td>60.3</td>\n",
       "      <td>7.38</td>\n",
       "      <td>7.21</td>\n",
       "      <td>3.29</td>\n",
       "      <td>Cons</td>\n",
       "      <td>[[51.4589, 0.1384]]</td>\n",
       "    </tr>\n",
       "    <tr>\n",
       "      <th>4</th>\n",
       "      <td>E09000005</td>\n",
       "      <td>Brent</td>\n",
       "      <td>Outer London</td>\n",
       "      <td>76.1</td>\n",
       "      <td>7.5</td>\n",
       "      <td>14680</td>\n",
       "      <td>78.8</td>\n",
       "      <td>385000</td>\n",
       "      <td>1354</td>\n",
       "      <td>20.4</td>\n",
       "      <td>21.9</td>\n",
       "      <td>1292.6</td>\n",
       "      <td>87802</td>\n",
       "      <td>3.7</td>\n",
       "      <td>60.1</td>\n",
       "      <td>7.25</td>\n",
       "      <td>7.22</td>\n",
       "      <td>2.92</td>\n",
       "      <td>Lab</td>\n",
       "      <td>[[51.62028, 0.305]]</td>\n",
       "    </tr>\n",
       "  </tbody>\n",
       "</table>\n",
       "</div>"
      ],
      "text/plain": [
       "        code                  area   inner_outer  population unemployment  \\\n",
       "0  E09000001        City of London  Inner London        28.9            .   \n",
       "1  E09000002  Barking and Dagenham  Outer London        57.3           11   \n",
       "2  E09000003                Barnet  Outer London        44.5          8.5   \n",
       "3  E09000004                Bexley  Outer London        39.9          7.6   \n",
       "4  E09000005                 Brent  Outer London        76.1          7.5   \n",
       "\n",
       "   active_business crime  house_price  council_tax council_rental  greenspace  \\\n",
       "0            19250     .       765000          943              .         4.8   \n",
       "1             5690  83.4       215000         1332           35.9        33.6   \n",
       "2            24555  62.7       400000         1397           11.1        41.3   \n",
       "3             8430  51.8       250000         1446           15.2        31.7   \n",
       "4            14680  78.8       385000         1354           20.4        21.9   \n",
       "\n",
       "   carbon_emmision    cars  pub_transport  achievement  life  happiness  \\\n",
       "0           1417.5    1692            7.9         78.6  6.59       5.99   \n",
       "1            783.2   56966            3.0         58.0  7.14       7.05   \n",
       "2           1552.7  144717            3.0         67.3  7.48       7.37   \n",
       "3           1060.9  108507            2.6         60.3  7.38       7.21   \n",
       "4           1292.6   87802            3.7         60.1  7.25       7.22   \n",
       "\n",
       "   anxiety political                    coordi  \n",
       "0     5.57         .  [[51.513988, -0.104885]]  \n",
       "1     3.05       Lab    [[51.55903, 0.155831]]  \n",
       "2     2.75      Cons  [[51.658724, -0.190878]]  \n",
       "3     3.29      Cons       [[51.4589, 0.1384]]  \n",
       "4     2.92       Lab       [[51.62028, 0.305]]  "
      ]
     },
     "execution_count": 5,
     "metadata": {},
     "output_type": "execute_result"
    }
   ],
   "source": [
    "borough_data.head()"
   ]
  },
  {
   "cell_type": "code",
   "execution_count": 7,
   "metadata": {},
   "outputs": [],
   "source": [
    "\n",
    "# RUN THIS ONLY ONCE, afterwards, read_csv\n",
    "# dc.aqi_data(borough_data, 24)\n",
    "aqi = pd.read_csv('./data/borough_data_cleaned_aqi.csv',index_col=0)"
   ]
  },
  {
   "cell_type": "code",
   "execution_count": 9,
   "metadata": {},
   "outputs": [
    {
     "data": {
      "text/plain": [
       "0     [69, 70, 65, 57, 76, 71, 74, 79, 78, 81, 81, 8...\n",
       "1     [79, 75, 67, 72, 68, 74, 79, 78, 79, 85, 84, 8...\n",
       "2     [82, 83, 85, 89, 88, 89, 87, 87, 89, 87, 84, 8...\n",
       "3     [68, 71, 69, 64, 68, 67, 68, 74, 66, 74, 78, 7...\n",
       "4     [60, 66, 63, 58, 69, 64, 67, 68, 64, 78, 87, 8...\n",
       "5     [70, 74, 73, 67, 72, 59, 74, 74, 76, 83, 78, 8...\n",
       "6     [74, 71, 71, 69, 71, 69, 75, 69, 73, 68, 69, 7...\n",
       "7     [79, 79, 81, 88, 85, 88, 86, 86, 85, 86, 85, 8...\n",
       "8     [64, 67, 67, 59, 72, 66, 66, 67, 66, 71, 74, 7...\n",
       "9     [71, 73, 62, 65, 72, 70, 70, 77, 78, 79, 85, 7...\n",
       "10    [73, 78, 71, 67, 73, 67, 74, 64, 69, 76, 77, 7...\n",
       "11    [78, 72, 68, 53, 68, 66, 59, 68, 69, 73, 87, 8...\n",
       "12    [73, 75, 68, 70, 69, 68, 75, 86, 84, 86, 75, 8...\n",
       "13    [67, 68, 69, 69, 66, 64, 69, 63, 73, 76, 73, 7...\n",
       "14    [84, 85, 88, 89, 88, 89, 84, 85, 85, 85, 84, 8...\n",
       "15    [81, 81, 84, 88, 86, 90, 89, 88, 87, 88, 87, 8...\n",
       "16    [79, 81, 72, 69, 69, 68, 64, 83, 84, 84, 83, 8...\n",
       "17    [63, 70, 69, 59, 71, 67, 73, 72, 72, 68, 79, 8...\n",
       "18    [75, 76, 68, 74, 67, 74, 77, 72, 74, 73, 73, 8...\n",
       "19    [72, 71, 72, 72, 66, 66, 72, 74, 70, 76, 73, 8...\n",
       "20    [58, 66, 66, 68, 68, 69, 71, 65, 66, 73, 69, 6...\n",
       "21    [68, 71, 65, 65, 72, 61, 70, 67, 70, 64, 71, 7...\n",
       "22    [61, 59, 70, 59, 57, 71, 71, 70, 73, 72, 72, 7...\n",
       "23    [78, 77, 72, 78, 73, 82, 78, 77, 74, 76, 76, 7...\n",
       "24    [68, 72, 70, 68, 67, 67, 60, 70, 74, 75, 75, 8...\n",
       "25    [81, 81, 86, 88, 86, 86, 89, 87, 85, 86, 87, 8...\n",
       "26    [68, 75, 69, 66, 72, 75, 69, 74, 67, 73, 86, 7...\n",
       "27    [62, 61, 69, 71, 73, 70, 75, 73, 71, 71, 73, 7...\n",
       "28    [74, 76, 56, 63, 64, 66, 71, 72, 77, 72, 79, 8...\n",
       "29    [61, 70, 68, 72, 63, 67, 68, 74, 70, 69, 76, 8...\n",
       "30    [84, 85, 88, 86, 88, 86, 88, 88, 87, 85, 85, 8...\n",
       "31    [74, 75, 67, 67, 71, 73, 71, 72, 73, 70, 79, 8...\n",
       "32    [64, 61, 62, 65, 62, 65, 65, 65, 70, 59, 68, 6...\n",
       "Name: aqi_24, dtype: object"
      ]
     },
     "execution_count": 9,
     "metadata": {},
     "output_type": "execute_result"
    }
   ],
   "source": []
  },
  {
   "cell_type": "code",
   "execution_count": 33,
   "metadata": {},
   "outputs": [],
   "source": [
    "\n"
   ]
  },
  {
   "cell_type": "code",
   "execution_count": 29,
   "metadata": {},
   "outputs": [],
   "source": []
  },
  {
   "cell_type": "code",
   "execution_count": 34,
   "metadata": {},
   "outputs": [],
   "source": []
  },
  {
   "cell_type": "code",
   "execution_count": null,
   "metadata": {},
   "outputs": [],
   "source": []
  },
  {
   "cell_type": "markdown",
   "metadata": {},
   "source": [
    "#### Testing the API"
   ]
  },
  {
   "cell_type": "code",
   "execution_count": null,
   "metadata": {},
   "outputs": [],
   "source": []
  },
  {
   "cell_type": "code",
   "execution_count": 5,
   "metadata": {},
   "outputs": [],
   "source": [
    "import api\n",
    "\n",
    "aqi = api.get_place_aqi(borough_data, 'Brent',3)\n",
    "# df.to_csv('./data/borough_data_cleaned_aqi.csv')"
   ]
  },
  {
   "cell_type": "code",
   "execution_count": 6,
   "metadata": {},
   "outputs": [
    {
     "name": "stdout",
     "output_type": "stream",
     "text": [
      "20\n"
     ]
    },
    {
     "data": {
      "text/plain": [
       "[86,\n",
       " 84,\n",
       " 84,\n",
       " 83,\n",
       " 85,\n",
       " 73,\n",
       " 66,\n",
       " 65,\n",
       " 66,\n",
       " 74,\n",
       " 86,\n",
       " 84,\n",
       " 84,\n",
       " 83,\n",
       " 85,\n",
       " 73,\n",
       " 66,\n",
       " 65,\n",
       " 66,\n",
       " 74]"
      ]
     },
     "execution_count": 6,
     "metadata": {},
     "output_type": "execute_result"
    }
   ],
   "source": [
    "print(len(aqi))\n",
    "aqi"
   ]
  },
  {
   "cell_type": "markdown",
   "metadata": {},
   "source": [
    "#### Call API and save data to csv\n"
   ]
  },
  {
   "cell_type": "code",
   "execution_count": 55,
   "metadata": {},
   "outputs": [],
   "source": []
  },
  {
   "cell_type": "code",
   "execution_count": null,
   "metadata": {},
   "outputs": [],
   "source": []
  },
  {
   "cell_type": "code",
   "execution_count": null,
   "metadata": {},
   "outputs": [],
   "source": []
  },
  {
   "cell_type": "code",
   "execution_count": 106,
   "metadata": {},
   "outputs": [],
   "source": [
    "\n"
   ]
  },
  {
   "cell_type": "code",
   "execution_count": 112,
   "metadata": {},
   "outputs": [],
   "source": []
  },
  {
   "cell_type": "code",
   "execution_count": null,
   "metadata": {},
   "outputs": [],
   "source": []
  },
  {
   "cell_type": "code",
   "execution_count": null,
   "metadata": {},
   "outputs": [],
   "source": []
  },
  {
   "cell_type": "code",
   "execution_count": null,
   "metadata": {},
   "outputs": [],
   "source": [
    "\n"
   ]
  },
  {
   "cell_type": "code",
   "execution_count": null,
   "metadata": {},
   "outputs": [],
   "source": []
  }
 ],
 "metadata": {
  "kernelspec": {
   "display_name": "Python 3",
   "language": "python",
   "name": "python3"
  },
  "language_info": {
   "codemirror_mode": {
    "name": "ipython",
    "version": 3
   },
   "file_extension": ".py",
   "mimetype": "text/x-python",
   "name": "python",
   "nbconvert_exporter": "python",
   "pygments_lexer": "ipython3",
   "version": "3.7.3"
  }
 },
 "nbformat": 4,
 "nbformat_minor": 4
}
