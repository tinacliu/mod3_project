{
 "cells": [
  {
   "cell_type": "markdown",
   "metadata": {},
   "source": [
    "<center><h2> Module 3 Project</h2></center>\n",
    "<center><h2> Data Loading & Cleaning</h2></center>\n",
    "\n"
   ]
  },
  {
   "cell_type": "markdown",
   "metadata": {},
   "source": [
    "In terms of our dataset, we are combing data on the boroughs of London, together with air quality and pollent data, to advise potential homebuyers.\n",
    "\n",
    "The borough related data contains 85 columns, including demographic data. However we are only keeping 19 columns, in particular these columns are related \n",
    "\n",
    "<h4>(1) potential drivers of air quality</h4>\n",
    "\n",
    "- Population density (per hectare) 2016\n",
    "- % of area that is Greenspace, 2005\n",
    "- Total carbon emissions (2013)\n",
    "- Number of cars, (2011 Census)\n",
    "\n",
    "<h4>(2) factual info that potential homebuyers would be interested to know</h4>\n",
    "\n",
    "- Unemployment rate (2015)\n",
    "- Number of active businesses, 2014\n",
    "- Crime rates per thousand population 2014/15\n",
    "- Median House Price, 2014\n",
    "- Average Band D Council Tax charge (£), 2015/16\n",
    "- Rented from Local Authority or Housing Association, (2014) %\n",
    "- Average Public Transport Accessibility score, 2014\n",
    "- Achievement of 5 or more A*- C grades at GCSE or equivalent including English and Maths, 2013/14\n",
    "- Political control in council\n",
    "\n",
    "<h4>(3) Survey data of residents</h4>\n",
    "\n",
    "- Life satisfaction score 2011-14 (out of 10)\n",
    "- Happiness score 2011-14 (out of 10)\n",
    "- Anxiety score 2011-14 (out of 10)\n"
   ]
  },
  {
   "cell_type": "code",
   "execution_count": 122,
   "metadata": {},
   "outputs": [],
   "source": [
    "%load_ext autoreload\n",
    "%autoreload 2"
   ]
  },
  {
   "cell_type": "code",
   "execution_count": 159,
   "metadata": {},
   "outputs": [],
   "source": [
    "import pandas as pd\n",
    "import data_cleaning as dc\n",
    "import api\n",
    "\n",
    "borough_data = dc.full_clean()\n",
    "# borough_data = pd.read_csv('./data/borough_data_cleaned.csv',index_col=0)"
   ]
  },
  {
   "cell_type": "code",
   "execution_count": 173,
   "metadata": {},
   "outputs": [
    {
     "name": "stdout",
     "output_type": "stream",
     "text": [
      "Barking and Dagenham API ok\n",
      "Barnet API ok\n",
      "Bexley API ok\n",
      "Brent API ok\n",
      "Bromley API ok\n",
      "Camden API ok\n",
      "Croydon API ok\n",
      "Ealing API ok\n",
      "Enfield API ok\n",
      "Greenwich API ok\n",
      "Hackney API ok\n",
      "Hammersmith and Fulham API ok\n",
      "Haringey API ok\n",
      "Harrow API ok\n",
      "Havering API ok\n",
      "Hillingdon API ok\n",
      "Hounslow API ok\n",
      "Islington API ok\n",
      "Kensington and Chelsea API ok\n",
      "Kingston upon Thames API ok\n",
      "Lambeth API ok\n",
      "Lewisham API ok\n",
      "Merton API ok\n",
      "Newham API ok\n",
      "Redbridge API ok\n",
      "Richmond upon Thames API ok\n",
      "Southwark API ok\n",
      "Sutton API ok\n",
      "Tower Hamlets API ok\n",
      "Waltham Forest API ok\n",
      "Wandsworth API ok\n",
      "Westminster API ok\n"
     ]
    }
   ],
   "source": [
    "import api\n",
    "coordi_list = []\n",
    "\n",
    "for col in borough_data.area:\n",
    "    coordi_list.append(api.get_coordi(col))"
   ]
  },
  {
   "cell_type": "code",
   "execution_count": 178,
   "metadata": {},
   "outputs": [],
   "source": [
    "test_area = borough_data.area[0]"
   ]
  },
  {
   "cell_type": "code",
   "execution_count": 161,
   "metadata": {},
   "outputs": [
    {
     "data": {
      "text/html": [
       "<div>\n",
       "<style scoped>\n",
       "    .dataframe tbody tr th:only-of-type {\n",
       "        vertical-align: middle;\n",
       "    }\n",
       "\n",
       "    .dataframe tbody tr th {\n",
       "        vertical-align: top;\n",
       "    }\n",
       "\n",
       "    .dataframe thead th {\n",
       "        text-align: right;\n",
       "    }\n",
       "</style>\n",
       "<table border=\"1\" class=\"dataframe\">\n",
       "  <thead>\n",
       "    <tr style=\"text-align: right;\">\n",
       "      <th></th>\n",
       "      <th>code</th>\n",
       "      <th>area</th>\n",
       "      <th>inner_outer</th>\n",
       "      <th>population</th>\n",
       "      <th>unemployment</th>\n",
       "      <th>active_business</th>\n",
       "      <th>crime</th>\n",
       "      <th>house_price</th>\n",
       "      <th>council_tax</th>\n",
       "      <th>council_rental</th>\n",
       "      <th>greenspace</th>\n",
       "      <th>carbon_emmision</th>\n",
       "      <th>cars</th>\n",
       "      <th>pub_transport</th>\n",
       "      <th>achievement</th>\n",
       "      <th>life</th>\n",
       "      <th>happiness</th>\n",
       "      <th>anxiety</th>\n",
       "      <th>political</th>\n",
       "    </tr>\n",
       "  </thead>\n",
       "  <tbody>\n",
       "    <tr>\n",
       "      <th>0</th>\n",
       "      <td>E09000002</td>\n",
       "      <td>Barking and Dagenham</td>\n",
       "      <td>Outer London</td>\n",
       "      <td>57.3</td>\n",
       "      <td>11.0</td>\n",
       "      <td>5690</td>\n",
       "      <td>83.4</td>\n",
       "      <td>215000</td>\n",
       "      <td>1332</td>\n",
       "      <td>35.9</td>\n",
       "      <td>33.6</td>\n",
       "      <td>783.2</td>\n",
       "      <td>56966</td>\n",
       "      <td>3.0</td>\n",
       "      <td>58.0</td>\n",
       "      <td>7.14</td>\n",
       "      <td>7.05</td>\n",
       "      <td>3.05</td>\n",
       "      <td>Lab</td>\n",
       "    </tr>\n",
       "    <tr>\n",
       "      <th>1</th>\n",
       "      <td>E09000003</td>\n",
       "      <td>Barnet</td>\n",
       "      <td>Outer London</td>\n",
       "      <td>44.5</td>\n",
       "      <td>8.5</td>\n",
       "      <td>24555</td>\n",
       "      <td>62.7</td>\n",
       "      <td>400000</td>\n",
       "      <td>1397</td>\n",
       "      <td>11.1</td>\n",
       "      <td>41.3</td>\n",
       "      <td>1552.7</td>\n",
       "      <td>144717</td>\n",
       "      <td>3.0</td>\n",
       "      <td>67.3</td>\n",
       "      <td>7.48</td>\n",
       "      <td>7.37</td>\n",
       "      <td>2.75</td>\n",
       "      <td>Cons</td>\n",
       "    </tr>\n",
       "    <tr>\n",
       "      <th>2</th>\n",
       "      <td>E09000004</td>\n",
       "      <td>Bexley</td>\n",
       "      <td>Outer London</td>\n",
       "      <td>39.9</td>\n",
       "      <td>7.6</td>\n",
       "      <td>8430</td>\n",
       "      <td>51.8</td>\n",
       "      <td>250000</td>\n",
       "      <td>1446</td>\n",
       "      <td>15.2</td>\n",
       "      <td>31.7</td>\n",
       "      <td>1060.9</td>\n",
       "      <td>108507</td>\n",
       "      <td>2.6</td>\n",
       "      <td>60.3</td>\n",
       "      <td>7.38</td>\n",
       "      <td>7.21</td>\n",
       "      <td>3.29</td>\n",
       "      <td>Cons</td>\n",
       "    </tr>\n",
       "    <tr>\n",
       "      <th>3</th>\n",
       "      <td>E09000005</td>\n",
       "      <td>Brent</td>\n",
       "      <td>Outer London</td>\n",
       "      <td>76.1</td>\n",
       "      <td>7.5</td>\n",
       "      <td>14680</td>\n",
       "      <td>78.8</td>\n",
       "      <td>385000</td>\n",
       "      <td>1354</td>\n",
       "      <td>20.4</td>\n",
       "      <td>21.9</td>\n",
       "      <td>1292.6</td>\n",
       "      <td>87802</td>\n",
       "      <td>3.7</td>\n",
       "      <td>60.1</td>\n",
       "      <td>7.25</td>\n",
       "      <td>7.22</td>\n",
       "      <td>2.92</td>\n",
       "      <td>Lab</td>\n",
       "    </tr>\n",
       "    <tr>\n",
       "      <th>4</th>\n",
       "      <td>E09000006</td>\n",
       "      <td>Bromley</td>\n",
       "      <td>Outer London</td>\n",
       "      <td>21.7</td>\n",
       "      <td>5.3</td>\n",
       "      <td>14825</td>\n",
       "      <td>64.1</td>\n",
       "      <td>335000</td>\n",
       "      <td>1325</td>\n",
       "      <td>13.2</td>\n",
       "      <td>57.8</td>\n",
       "      <td>1334.7</td>\n",
       "      <td>153908</td>\n",
       "      <td>2.8</td>\n",
       "      <td>68.0</td>\n",
       "      <td>7.54</td>\n",
       "      <td>7.44</td>\n",
       "      <td>3.26</td>\n",
       "      <td>Cons</td>\n",
       "    </tr>\n",
       "  </tbody>\n",
       "</table>\n",
       "</div>"
      ],
      "text/plain": [
       "        code                  area   inner_outer  population  unemployment  \\\n",
       "0  E09000002  Barking and Dagenham  Outer London        57.3          11.0   \n",
       "1  E09000003                Barnet  Outer London        44.5           8.5   \n",
       "2  E09000004                Bexley  Outer London        39.9           7.6   \n",
       "3  E09000005                 Brent  Outer London        76.1           7.5   \n",
       "4  E09000006               Bromley  Outer London        21.7           5.3   \n",
       "\n",
       "   active_business  crime  house_price  council_tax  council_rental  \\\n",
       "0             5690   83.4       215000         1332            35.9   \n",
       "1            24555   62.7       400000         1397            11.1   \n",
       "2             8430   51.8       250000         1446            15.2   \n",
       "3            14680   78.8       385000         1354            20.4   \n",
       "4            14825   64.1       335000         1325            13.2   \n",
       "\n",
       "   greenspace  carbon_emmision    cars  pub_transport  achievement  life  \\\n",
       "0        33.6            783.2   56966            3.0         58.0  7.14   \n",
       "1        41.3           1552.7  144717            3.0         67.3  7.48   \n",
       "2        31.7           1060.9  108507            2.6         60.3  7.38   \n",
       "3        21.9           1292.6   87802            3.7         60.1  7.25   \n",
       "4        57.8           1334.7  153908            2.8         68.0  7.54   \n",
       "\n",
       "   happiness  anxiety political  \n",
       "0       7.05     3.05       Lab  \n",
       "1       7.37     2.75      Cons  \n",
       "2       7.21     3.29      Cons  \n",
       "3       7.22     2.92       Lab  \n",
       "4       7.44     3.26      Cons  "
      ]
     },
     "execution_count": 161,
     "metadata": {},
     "output_type": "execute_result"
    }
   ],
   "source": [
    "borough_data.head()"
   ]
  },
  {
   "cell_type": "markdown",
   "metadata": {},
   "source": [
    "#### Testing getting the coordinates function"
   ]
  },
  {
   "cell_type": "code",
   "execution_count": 180,
   "metadata": {},
   "outputs": [
    {
     "name": "stdout",
     "output_type": "stream",
     "text": [
      "Barnet API ok\n"
     ]
    }
   ],
   "source": [
    "area = borough_data.iloc[1].area\n",
    "lat, long = api.get_coordi(area)"
   ]
  },
  {
   "cell_type": "code",
   "execution_count": 181,
   "metadata": {},
   "outputs": [
    {
     "name": "stdout",
     "output_type": "stream",
     "text": [
      "51.658724 -0.190878\n"
     ]
    }
   ],
   "source": [
    "print(lat, long)"
   ]
  },
  {
   "cell_type": "markdown",
   "metadata": {},
   "source": [
    "#### Testing getting the air quality data\n"
   ]
  },
  {
   "cell_type": "code",
   "execution_count": null,
   "metadata": {},
   "outputs": [],
   "source": []
  },
  {
   "cell_type": "code",
   "execution_count": null,
   "metadata": {},
   "outputs": [],
   "source": [
    "\n"
   ]
  },
  {
   "cell_type": "code",
   "execution_count": null,
   "metadata": {},
   "outputs": [],
   "source": [
    "\n",
    "    "
   ]
  },
  {
   "cell_type": "code",
   "execution_count": null,
   "metadata": {},
   "outputs": [],
   "source": []
  },
  {
   "cell_type": "code",
   "execution_count": null,
   "metadata": {},
   "outputs": [],
   "source": []
  }
 ],
 "metadata": {
  "kernelspec": {
   "display_name": "Python 3",
   "language": "python",
   "name": "python3"
  },
  "language_info": {
   "codemirror_mode": {
    "name": "ipython",
    "version": 3
   },
   "file_extension": ".py",
   "mimetype": "text/x-python",
   "name": "python",
   "nbconvert_exporter": "python",
   "pygments_lexer": "ipython3",
   "version": "3.7.3"
  }
 },
 "nbformat": 4,
 "nbformat_minor": 4
}
