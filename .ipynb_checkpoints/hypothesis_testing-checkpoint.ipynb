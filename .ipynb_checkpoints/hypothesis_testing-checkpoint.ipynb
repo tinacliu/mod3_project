{
 "cells": [
  {
   "cell_type": "markdown",
   "metadata": {},
   "source": [
    "<center><h2> Module 3 Project</h2></center>\n",
    "<center><h2> Hypothesis Testing</h2></center>\n",
    "\n",
    "**Authors:** \n",
    "Tina Liu, Zaria Rankine"
   ]
  },
  {
   "cell_type": "markdown",
   "metadata": {},
   "source": [
    "#### Business Problem\n",
    "\n",
    "We explored air quality data for different boroughs of London, in an aim to provide insights useful to potential house buyers. We decided our stakeholders would be property websites like Rightmove and Zoopla, as they often provide area guides for their customers being house buyers."
   ]
  },
  {
   "cell_type": "markdown",
   "metadata": {},
   "source": [
    "#### Analysis"
   ]
  },
  {
   "cell_type": "code",
   "execution_count": null,
   "metadata": {},
   "outputs": [],
   "source": []
  },
  {
   "cell_type": "markdown",
   "metadata": {},
   "source": [
    "#### Findings & Application\n",
    "\n",
    "We explored the London Borough data first, to determine areas of interest in London, and formed hypotheses around these findings. We used the BreezoMeter API with hourly Air Quality reports, and the London Borough Demographics Data CSV. We also used MapBox API for latitude and longitude coordinates for our broughs. We defined Air Quality using the Air Quality Index (AQI) score from BreezoMeter, based on the coordinates given from MapBox.\n",
    "\n",
    "\n",
    "Ultimately, we concluded not to reject our null hypothesis (H0) for all Hypotheses. ***\n",
    "Our EDA on the borough data showed strong relationships between factors, which we assumed would also be reflected in the AQI. On first inspection, there are noticable differences between samples, but our tests found that the differnces are not statistically significant. "
   ]
  },
  {
   "cell_type": "markdown",
   "metadata": {},
   "source": [
    "#### Limitations\n",
    "\n",
    "We found a number of physical and theoretical limitations when conducting our experiments.\n",
    "\n",
    "We could make limited daily calls to our Air Quality API, and only had access to very recent data, minimising the number of calls we could do everyday. To remedy this, we collected multiple coordinates for each borough, and we were able to call hourly API data on each coordinate, generating multiple datapoints for each borough.\n",
    "\n",
    "Our process of selecting samples for our experiments was random, but we noticed the method of sampling was inadvertently biased. As we were only able to take samples from the last few days, these cannot be assumed to be an accurate and fair representation of the borough.\n",
    "\n",
    "Our data could also have a bias due to the nature of the variables. We must question if our boroughs are co-dependent, based on their close physical proximity to each other. We have treated each borough as in independent entitiy, but this could be seen as short-sighted, given that there are no boundaries of air flow between areas.\n",
    "\n",
    "Random sampling is an assumption of a T-Test, and we recognised that potentially breaching this may affect the reliability of our experiments. However, without more information, we felt our insights were still accurate within the contraints we were working.\n",
    "\n",
    "Typically, the student's T-Test is used for data with the same sample size and variance. Our sample sizes were consistent for pur variables, but didn't have the exact same variance. As we knew our samples were all taken from the same wider population, London, we still felt this was an appropriate test to use, given that when computing our values, this difference in variance can be accounted for."
   ]
  },
  {
   "cell_type": "markdown",
   "metadata": {},
   "source": [
    "#### Next Steps\n",
    "As per our limitations when taking data samples, we would like to perform our tests with a much larger dataset, spanning a longer time period. Doing so would provide more generalised insights, that would better-represent the boroughs."
   ]
  },
  {
   "cell_type": "code",
   "execution_count": null,
   "metadata": {},
   "outputs": [],
   "source": []
  }
 ],
 "metadata": {
  "kernelspec": {
   "display_name": "Python 3",
   "language": "python",
   "name": "python3"
  },
  "language_info": {
   "codemirror_mode": {
    "name": "ipython",
    "version": 3
   },
   "file_extension": ".py",
   "mimetype": "text/x-python",
   "name": "python",
   "nbconvert_exporter": "python",
   "pygments_lexer": "ipython3",
   "version": "3.7.3"
  }
 },
 "nbformat": 4,
 "nbformat_minor": 2
}
