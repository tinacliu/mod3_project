{
 "cells": [
  {
   "cell_type": "markdown",
   "metadata": {},
   "source": [
    "<center><h2> Module 3 Project</h2></center>\n",
    "<center><h2> Data Loading & Cleaning</h2></center>\n",
    "\n"
   ]
  },
  {
   "cell_type": "markdown",
   "metadata": {},
   "source": [
    "In terms of our dataset, we are combing data on the boroughs of London, together with air quality data, to advise potential homebuyers or renters moving to Greater London.\n",
    "\n",
    "\n",
    "### London Borough Data\n",
    "\n",
    "The borough related data contains 85 columns, including lots of demographic data. However we are only keeping 19 columns which we think would be of interest given our target customers, in particular these columns can be grouped into:\n",
    "\n",
    "<h4>(1) potential drivers of air quality</h4>\n",
    "\n",
    "- Population density (per hectare) 2016\n",
    "- % of area that is Greenspace, 2005\n",
    "- Total carbon emissions (2013)\n",
    "- Number of cars, (2011 Census)\n",
    "\n",
    "<h4>(2) factual info that potential homebuyers would be interested to know</h4>\n",
    "\n",
    "- Unemployment rate (2015)\n",
    "- Number of active businesses, 2014\n",
    "- Crime rates per thousand population 2014/15\n",
    "- Median House Price, 2014\n",
    "- Average Band D Council Tax charge (£), 2015/16\n",
    "- Rented from Local Authority or Housing Association, (2014) %\n",
    "- Average Public Transport Accessibility score, 2014\n",
    "- Achievement of 5 or more A*- C grades at GCSE or equivalent including English and Maths, 2013/14\n",
    "- Political control in council\n",
    "\n",
    "<h4>(3) Survey data of residents</h4>\n",
    "\n",
    "- Life satisfaction score 2011-14 (out of 10)\n",
    "- Happiness score 2011-14 (out of 10)\n",
    "- Anxiety score 2011-14 (out of 10)\n",
    "\n",
    "\n",
    "### Air Quality Data \n",
    "\n",
    "We are using the Breezo Air Quality Index data as measure of air quality, and we're accessing the data via the Breezo API. The Breezo Air Qaulity Index is an in-house produced global measure of air quality index, combining national AQI index, academic research and latest real-time data. As air quality data is dynamic and fast-changing, Breezo is able to provide a hourly basis measure of air quality data, which can be different at any given time from street to street. if pollution levels are low in the morning, things might dramatically change in just a couple of hours. \n",
    "\n",
    "The Breezo Air Quality Data Scale puts air quality on a scale of 0 to 100, 0 to 19 being Poor air quality and 100 being best air quality.\n",
    "\n",
    "- 0 to 19 Poor\n",
    "- 20 to 39 Low\n",
    "- 40 to 50 Moderate\n",
    "- 60 to 79 Fair\n",
    "- 100 Exellent"
   ]
  },
  {
   "cell_type": "code",
   "execution_count": 2,
   "metadata": {},
   "outputs": [],
   "source": [
    "%load_ext autoreload\n",
    "%autoreload 2"
   ]
  },
  {
   "cell_type": "code",
   "execution_count": 2,
   "metadata": {},
   "outputs": [],
   "source": [
    "import pandas as pd\n",
    "import data_cleaning as dc\n",
    "import api\n",
    "import numpy as np\n",
    "import statistics as stats\n",
    "\n",
    "import matplotlib.pyplot as plt\n",
    "import seaborn as sns"
   ]
  },
  {
   "cell_type": "code",
   "execution_count": 8,
   "metadata": {},
   "outputs": [],
   "source": [
    "borough_data = dc.full_clean()\n",
    "\n",
    "# borough_data = pd.read_csv('./data/borough_data_cleaned_coordi.csv',index_col=0)"
   ]
  },
  {
   "cell_type": "markdown",
   "metadata": {},
   "source": [
    "In preparing the data, we first load the original Kaggle dataset (read csv), keep the columns we are interested in and call Mapbox API to get the coornidates of each borough. This means the coordinate is one point in a borough, where the Mapbox defines as the centre of that borough.\n",
    "\n",
    "In getting the Air Quality data from the Breezo API, due to the limiation of the API calls capped at 1000 daily, and we have 33 boroughs in London that we are interested in. The maximum we can pull at one time is 24 hours worth of air quality data for all 33 boroughs, we can save this in a csv file and we will read from the csv file for the last 24 hours of air quality data for each borough (as of 2019-Nov-12)."
   ]
  },
  {
   "cell_type": "code",
   "execution_count": 3,
   "metadata": {},
   "outputs": [],
   "source": [
    "\n",
    "# RUN THIS ONLY ONCE, afterwards, read_csv\n",
    "# dc.aqi_data(borough_data, 24)\n",
    "aqi = pd.read_csv('./data/borough_data_cleaned_aqi.csv',index_col=0)\n",
    "\n",
    "# after reading the saved aqi data, turn it into a list and calcualte mean and average\n",
    "aqi.aqi_24 = aqi.aqi_24.map(lambda x: [int(i) for i in x[1:-1].split(', ')])\n",
    "aqi['aqi_mean'] = aqi.aqi_24.map(lambda x: np.asarray(x).mean())"
   ]
  },
  {
   "cell_type": "code",
   "execution_count": 4,
   "metadata": {},
   "outputs": [
    {
     "data": {
      "text/html": [
       "<div>\n",
       "<style scoped>\n",
       "    .dataframe tbody tr th:only-of-type {\n",
       "        vertical-align: middle;\n",
       "    }\n",
       "\n",
       "    .dataframe tbody tr th {\n",
       "        vertical-align: top;\n",
       "    }\n",
       "\n",
       "    .dataframe thead th {\n",
       "        text-align: right;\n",
       "    }\n",
       "</style>\n",
       "<table border=\"1\" class=\"dataframe\">\n",
       "  <thead>\n",
       "    <tr style=\"text-align: right;\">\n",
       "      <th></th>\n",
       "      <th>code</th>\n",
       "      <th>area</th>\n",
       "      <th>inner_outer</th>\n",
       "      <th>population</th>\n",
       "      <th>unemployment</th>\n",
       "      <th>active_business</th>\n",
       "      <th>crime</th>\n",
       "      <th>house_price</th>\n",
       "      <th>council_tax</th>\n",
       "      <th>council_rental</th>\n",
       "      <th>...</th>\n",
       "      <th>cars</th>\n",
       "      <th>pub_transport</th>\n",
       "      <th>achievement</th>\n",
       "      <th>life</th>\n",
       "      <th>happiness</th>\n",
       "      <th>anxiety</th>\n",
       "      <th>political</th>\n",
       "      <th>coordi</th>\n",
       "      <th>aqi_24</th>\n",
       "      <th>aqi_mean</th>\n",
       "    </tr>\n",
       "  </thead>\n",
       "  <tbody>\n",
       "    <tr>\n",
       "      <th>0</th>\n",
       "      <td>E09000001</td>\n",
       "      <td>City of London</td>\n",
       "      <td>Inner London</td>\n",
       "      <td>28.9</td>\n",
       "      <td>.</td>\n",
       "      <td>19250</td>\n",
       "      <td>.</td>\n",
       "      <td>765000</td>\n",
       "      <td>943</td>\n",
       "      <td>.</td>\n",
       "      <td>...</td>\n",
       "      <td>1692</td>\n",
       "      <td>7.9</td>\n",
       "      <td>78.6</td>\n",
       "      <td>6.59</td>\n",
       "      <td>5.99</td>\n",
       "      <td>5.57</td>\n",
       "      <td>.</td>\n",
       "      <td>[[51.513988, -0.104885]]</td>\n",
       "      <td>[69, 70, 65, 57, 76, 71, 74, 79, 78, 81, 81, 8...</td>\n",
       "      <td>74.666667</td>\n",
       "    </tr>\n",
       "    <tr>\n",
       "      <th>1</th>\n",
       "      <td>E09000002</td>\n",
       "      <td>Barking and Dagenham</td>\n",
       "      <td>Outer London</td>\n",
       "      <td>57.3</td>\n",
       "      <td>11</td>\n",
       "      <td>5690</td>\n",
       "      <td>83.4</td>\n",
       "      <td>215000</td>\n",
       "      <td>1332</td>\n",
       "      <td>35.9</td>\n",
       "      <td>...</td>\n",
       "      <td>56966</td>\n",
       "      <td>3.0</td>\n",
       "      <td>58.0</td>\n",
       "      <td>7.14</td>\n",
       "      <td>7.05</td>\n",
       "      <td>3.05</td>\n",
       "      <td>Lab</td>\n",
       "      <td>[[51.55903, 0.155831]]</td>\n",
       "      <td>[79, 75, 67, 72, 68, 74, 79, 78, 79, 85, 84, 8...</td>\n",
       "      <td>78.416667</td>\n",
       "    </tr>\n",
       "    <tr>\n",
       "      <th>2</th>\n",
       "      <td>E09000003</td>\n",
       "      <td>Barnet</td>\n",
       "      <td>Outer London</td>\n",
       "      <td>44.5</td>\n",
       "      <td>8.5</td>\n",
       "      <td>24555</td>\n",
       "      <td>62.7</td>\n",
       "      <td>400000</td>\n",
       "      <td>1397</td>\n",
       "      <td>11.1</td>\n",
       "      <td>...</td>\n",
       "      <td>144717</td>\n",
       "      <td>3.0</td>\n",
       "      <td>67.3</td>\n",
       "      <td>7.48</td>\n",
       "      <td>7.37</td>\n",
       "      <td>2.75</td>\n",
       "      <td>Cons</td>\n",
       "      <td>[[51.658724, -0.190878]]</td>\n",
       "      <td>[82, 83, 85, 89, 88, 89, 87, 87, 89, 87, 84, 8...</td>\n",
       "      <td>86.375000</td>\n",
       "    </tr>\n",
       "  </tbody>\n",
       "</table>\n",
       "<p>3 rows × 22 columns</p>\n",
       "</div>"
      ],
      "text/plain": [
       "        code                  area   inner_outer  population unemployment  \\\n",
       "0  E09000001        City of London  Inner London        28.9            .   \n",
       "1  E09000002  Barking and Dagenham  Outer London        57.3           11   \n",
       "2  E09000003                Barnet  Outer London        44.5          8.5   \n",
       "\n",
       "   active_business crime  house_price  council_tax council_rental  ...  \\\n",
       "0            19250     .       765000          943              .  ...   \n",
       "1             5690  83.4       215000         1332           35.9  ...   \n",
       "2            24555  62.7       400000         1397           11.1  ...   \n",
       "\n",
       "     cars  pub_transport  achievement  life  happiness  anxiety  political  \\\n",
       "0    1692            7.9         78.6  6.59       5.99     5.57          .   \n",
       "1   56966            3.0         58.0  7.14       7.05     3.05        Lab   \n",
       "2  144717            3.0         67.3  7.48       7.37     2.75       Cons   \n",
       "\n",
       "                     coordi  \\\n",
       "0  [[51.513988, -0.104885]]   \n",
       "1    [[51.55903, 0.155831]]   \n",
       "2  [[51.658724, -0.190878]]   \n",
       "\n",
       "                                              aqi_24   aqi_mean  \n",
       "0  [69, 70, 65, 57, 76, 71, 74, 79, 78, 81, 81, 8...  74.666667  \n",
       "1  [79, 75, 67, 72, 68, 74, 79, 78, 79, 85, 84, 8...  78.416667  \n",
       "2  [82, 83, 85, 89, 88, 89, 87, 87, 89, 87, 84, 8...  86.375000  \n",
       "\n",
       "[3 rows x 22 columns]"
      ]
     },
     "execution_count": 4,
     "metadata": {},
     "output_type": "execute_result"
    }
   ],
   "source": [
    "aqi.head(3)"
   ]
  },
  {
   "cell_type": "markdown",
   "metadata": {},
   "source": [
    "<center><h2> EDA on AQI and something to group on </h2></center>\n",
    "\n",
    "Looking for interesting relationships that we could group the data by and test the air quality difference in between the two groups.\n",
    "\n",
    "- Looks like boroughs with current political seat in the Labour party may have lower house price\n",
    "- Air quality in Outer London Boroughs have a wider range but boroughs with the best air quality is all in Outer London."
   ]
  },
  {
   "cell_type": "code",
   "execution_count": 34,
   "metadata": {},
   "outputs": [
    {
     "data": {
      "text/plain": [
       "<matplotlib.collections.PathCollection at 0x1a1a595c88>"
      ]
     },
     "execution_count": 34,
     "metadata": {},
     "output_type": "execute_result"
    },
    {
     "data": {
      "image/png": "[encoded data removed]",
      "text/plain": [
       "<Figure size 432x288 with 1 Axes>"
      ]
     },
     "metadata": {
      "needs_background": "light"
     },
     "output_type": "display_data"
    }
   ],
   "source": [
    "# plt.scatter(aqi.house_price, aqi.anxiety)\n",
    "plt.scatter(aqi.political, aqi.house_price)"
   ]
  },
  {
   "cell_type": "code",
   "execution_count": 35,
   "metadata": {},
   "outputs": [
    {
     "data": {
      "text/plain": [
       "<matplotlib.collections.PathCollection at 0x1a1a624400>"
      ]
     },
     "execution_count": 35,
     "metadata": {},
     "output_type": "execute_result"
    },
    {
     "data": {
      "image/png": "[encoded data removed]",
      "text/plain": [
       "<Figure size 432x288 with 1 Axes>"
      ]
     },
     "metadata": {
      "needs_background": "light"
     },
     "output_type": "display_data"
    }
   ],
   "source": [
    "plt.scatter(aqi.inner_outer, aqi.aqi_mean)"
   ]
  },
  {
   "cell_type": "markdown",
   "metadata": {},
   "source": [
    "\n"
   ]
  },
  {
   "cell_type": "markdown",
   "metadata": {},
   "source": [
    "<center><h2> Advice for Customers </h2></center>\n",
    "\n",
    "Looking for interesting relationships to advice to target customers."
   ]
  },
  {
   "cell_type": "code",
   "execution_count": 102,
   "metadata": {},
   "outputs": [
    {
     "data": {
      "text/plain": [
       "<matplotlib.axes._subplots.AxesSubplot at 0x1a1b71bda0>"
      ]
     },
     "execution_count": 102,
     "metadata": {},
     "output_type": "execute_result"
    },
    {
     "data": {
      "image/png": "[encoded data removed]",
      "text/plain": [
       "<Figure size 432x288 with 2 Axes>"
      ]
     },
     "metadata": {
      "needs_background": "light"
     },
     "output_type": "display_data"
    }
   ],
   "source": [
    "aqi.plot.scatter('pub_transport', 'house_price', c = 'aqi_mean', colormap = 'viridis')"
   ]
  },
  {
   "cell_type": "code",
   "execution_count": 100,
   "metadata": {},
   "outputs": [
    {
     "data": {
      "image/png": "[encoded data removed]",
      "text/plain": [
       "<Figure size 1152x864 with 2 Axes>"
      ]
     },
     "metadata": {
      "needs_background": "light"
     },
     "output_type": "display_data"
    }
   ],
   "source": [
    "plt.style.use('bmh')\n",
    "fig = plt.figure(figsize = (16,12))\n",
    "\n",
    "ax1 = fig.add_subplot(221)\n",
    "plt.scatter(aqi.achievement, aqi.aqi_mean, alpha=0.9)\n",
    "plt.title('Avg. Air Quality vs. Achievement of >= 5 A*- C at GCSE')\n",
    "\n",
    "ax2 = fig.add_subplot(222)\n",
    "plt.scatter(aqi.pub_transport, aqi.aqi_mean, alpha=0.9)\n",
    "plt.title('Avg. Air Quality vs. Public Transport Score')\n",
    "\n",
    "plt.show()"
   ]
  },
  {
   "cell_type": "markdown",
   "metadata": {},
   "source": [
    "Although we found that better air quality does not mean it has better schools, and for convinience of public transport, boroughs with better air quality actually has a lower public transport score. \n",
    "\n",
    "Given that budget is usually set for each customer and it's depended on their situation, we then look at how house price, air quality and school quality combines together.\n",
    "\n"
   ]
  },
  {
   "cell_type": "markdown",
   "metadata": {},
   "source": [
    "\n"
   ]
  },
  {
   "cell_type": "code",
   "execution_count": 1,
   "metadata": {},
   "outputs": [
    {
     "ename": "NameError",
     "evalue": "name 'plt' is not defined",
     "output_type": "error",
     "traceback": [
      "\u001b[0;31m----------------------------------------------------------\u001b[0m",
      "\u001b[0;31mNameError\u001b[0m                Traceback (most recent call last)",
      "\u001b[0;32m<ipython-input-1-f602484d3379>\u001b[0m in \u001b[0;36m<module>\u001b[0;34m\u001b[0m\n\u001b[0;32m----> 1\u001b[0;31m \u001b[0mplt\u001b[0m\u001b[0;34m.\u001b[0m\u001b[0mstyle\u001b[0m\u001b[0;34m.\u001b[0m\u001b[0muse\u001b[0m\u001b[0;34m(\u001b[0m\u001b[0;34m'bmh'\u001b[0m\u001b[0;34m)\u001b[0m\u001b[0;34m\u001b[0m\u001b[0;34m\u001b[0m\u001b[0m\n\u001b[0m\u001b[1;32m      2\u001b[0m \u001b[0mfig\u001b[0m \u001b[0;34m=\u001b[0m \u001b[0mplt\u001b[0m\u001b[0;34m.\u001b[0m\u001b[0mfigure\u001b[0m\u001b[0;34m(\u001b[0m\u001b[0mfigsize\u001b[0m \u001b[0;34m=\u001b[0m \u001b[0;34m(\u001b[0m\u001b[0;36m20\u001b[0m\u001b[0;34m,\u001b[0m\u001b[0;36m14\u001b[0m\u001b[0;34m)\u001b[0m\u001b[0;34m)\u001b[0m\u001b[0;34m\u001b[0m\u001b[0;34m\u001b[0m\u001b[0m\n\u001b[1;32m      3\u001b[0m \u001b[0;34m\u001b[0m\u001b[0m\n\u001b[1;32m      4\u001b[0m \u001b[0max1\u001b[0m \u001b[0;34m=\u001b[0m \u001b[0mfig\u001b[0m\u001b[0;34m.\u001b[0m\u001b[0madd_subplot\u001b[0m\u001b[0;34m(\u001b[0m\u001b[0;36m221\u001b[0m\u001b[0;34m)\u001b[0m\u001b[0;34m\u001b[0m\u001b[0;34m\u001b[0m\u001b[0m\n\u001b[1;32m      5\u001b[0m \u001b[0mplt\u001b[0m\u001b[0;34m.\u001b[0m\u001b[0mscatter\u001b[0m\u001b[0;34m(\u001b[0m\u001b[0maqi\u001b[0m\u001b[0;34m.\u001b[0m\u001b[0machievement\u001b[0m\u001b[0;34m,\u001b[0m \u001b[0maqi\u001b[0m\u001b[0;34m.\u001b[0m\u001b[0mhouse_price\u001b[0m\u001b[0;34m,\u001b[0m \u001b[0mc\u001b[0m\u001b[0;34m=\u001b[0m\u001b[0maqi\u001b[0m\u001b[0;34m.\u001b[0m\u001b[0maqi_mean\u001b[0m\u001b[0;34m,\u001b[0m \u001b[0ms\u001b[0m\u001b[0;34m=\u001b[0m\u001b[0maqi\u001b[0m\u001b[0;34m.\u001b[0m\u001b[0mgreenspace\u001b[0m\u001b[0;34m)\u001b[0m\u001b[0;34m\u001b[0m\u001b[0;34m\u001b[0m\u001b[0m\n",
      "\u001b[0;31mNameError\u001b[0m: name 'plt' is not defined"
     ]
    }
   ],
   "source": [
    "plt.style.use('bmh')\n",
    "fig = plt.figure(figsize = (20,14))\n",
    "\n",
    "ax1 = fig.add_subplot(221)\n",
    "plt.scatter(aqi.achievement, aqi.house_price, c=aqi.aqi_mean, s=aqi.greenspace)\n",
    "plt.title('Median House Price vs. School Quality')\n",
    "\n",
    "plt.show()"
   ]
  },
  {
   "cell_type": "code",
   "execution_count": 126,
   "metadata": {},
   "outputs": [],
   "source": [
    "# aqi[(aqi['house_price']<=420000) & (aqi['achievement']>65) ]"
   ]
  }
 ],
 "metadata": {
  "kernelspec": {
   "display_name": "Python 3",
   "language": "python",
   "name": "python3"
  },
  "language_info": {
   "codemirror_mode": {
    "name": "ipython",
    "version": 3
   },
   "file_extension": ".py",
   "mimetype": "text/x-python",
   "name": "python",
   "nbconvert_exporter": "python",
   "pygments_lexer": "ipython3",
   "version": "3.7.3"
  }
 },
 "nbformat": 4,
 "nbformat_minor": 4
}
