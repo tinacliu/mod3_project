{
 "cells": [
  {
   "cell_type": "code",
   "execution_count": 1,
   "metadata": {},
   "outputs": [],
   "source": [
    "import requests\n",
    "import json"
   ]
  },
  {
   "cell_type": "code",
   "execution_count": 2,
   "metadata": {},
   "outputs": [
    {
     "name": "stdout",
     "output_type": "stream",
     "text": [
      "45.796937; 15.981895\n"
     ]
    }
   ],
   "source": [
    "#Geo API Test\n",
    "from opencage.geocoder import OpenCageGeocode\n",
    "\n",
    "key = '443b9922f4bf4b26a33fc789e5ecbbb9'\n",
    "geocoder = OpenCageGeocode(key)\n",
    "\n",
    "query = 'Bosutska ulica 10, Trnje, Zagreb, Croatia'\n",
    "results = geocoder.geocode(query)\n",
    "\n",
    "print('%f; %f' % (results[0]['geometry']['lat'], \n",
    "                        results[0]['geometry']['lng']))\n"
   ]
  },
  {
   "cell_type": "code",
   "execution_count": 3,
   "metadata": {},
   "outputs": [
    {
     "data": {
      "text/plain": [
       "[('London, UK', 51.5073219, -0.1276474),\n",
       " ('Paris, France', 48.8566969, 2.3514616)]"
      ]
     },
     "execution_count": 3,
     "metadata": {},
     "output_type": "execute_result"
    }
   ],
   "source": [
    "#Generating Coordinates with API\n",
    "places = ['London, UK', 'Paris, France']\n",
    "lat = []\n",
    "long = []\n",
    "\n",
    "for place in places:\n",
    "    query = place\n",
    "    results = geocoder.geocode(query)\n",
    "    lat.append(results[0]['geometry']['lat'])\n",
    "    long.append(results[0]['geometry']['lng'])\n",
    "    \n",
    "    \n",
    "list(zip(places, lat, long))"
   ]
  },
  {
   "cell_type": "code",
   "execution_count": 4,
   "metadata": {},
   "outputs": [
    {
     "name": "stdout",
     "output_type": "stream",
     "text": [
      "Lat: 51.507322; Long: -0.127647\n",
      "Lat: 48.856697; Long: 2.351462\n"
     ]
    }
   ],
   "source": [
    "#Generating Coordinates with API\n",
    "places = ['London, UK', 'Paris, France']\n",
    "\n",
    "for place in places:\n",
    "    query = place\n",
    "    results = geocoder.geocode(query)\n",
    "    print('Lat: %f; Long: %f' % (results[0]['geometry']['lat'], \n",
    "                        results[0]['geometry']['lng']))\n",
    "    "
   ]
  },
  {
   "cell_type": "code",
   "execution_count": 5,
   "metadata": {},
   "outputs": [
    {
     "data": {
      "text/plain": [
       "<Response [200]>"
      ]
     },
     "execution_count": 5,
     "metadata": {},
     "output_type": "execute_result"
    }
   ],
   "source": [
    "#Test - API Response\n",
    "resp = requests.get('https://api.breezometer.com/air-quality/v2/current-conditions?lat=48.857456&lon=2.354611&key=bf0e6728087241539fc0c8fb0d4848fc')\n",
    "resp"
   ]
  },
  {
   "cell_type": "code",
   "execution_count": 6,
   "metadata": {},
   "outputs": [],
   "source": [
    "#Test - Collect Air Quality Data for the last 48 hours\n",
    "r = requests.get('https://api.breezometer.com/air-quality/v2/historical/hourly?lat=51.376495&lon=-0.100594&key=bf0e6728087241539fc0c8fb0d4848fc&hours=48')\n",
    "a = r.json()"
   ]
  },
  {
   "cell_type": "code",
   "execution_count": 7,
   "metadata": {},
   "outputs": [
    {
     "ename": "NameError",
     "evalue": "name 'locations' is not defined",
     "output_type": "error",
     "traceback": [
      "\u001b[0;31m---------------------------------------------------------------------------\u001b[0m",
      "\u001b[0;31mNameError\u001b[0m                                 Traceback (most recent call last)",
      "\u001b[0;32m<ipython-input-7-aa0309d56d18>\u001b[0m in \u001b[0;36m<module>\u001b[0;34m\u001b[0m\n\u001b[1;32m      1\u001b[0m \u001b[0;31m#Collecting Data for our chosen Boroughs\u001b[0m\u001b[0;34m\u001b[0m\u001b[0;34m\u001b[0m\u001b[0;34m\u001b[0m\u001b[0m\n\u001b[0;32m----> 2\u001b[0;31m \u001b[0;32mfor\u001b[0m \u001b[0mlocation\u001b[0m \u001b[0;32min\u001b[0m \u001b[0mlocations\u001b[0m\u001b[0;34m:\u001b[0m\u001b[0;34m\u001b[0m\u001b[0;34m\u001b[0m\u001b[0m\n\u001b[0m\u001b[1;32m      3\u001b[0m     \u001b[0mcall_api\u001b[0m \u001b[0;34m=\u001b[0m \u001b[0mrequests\u001b[0m\u001b[0;34m.\u001b[0m\u001b[0mget\u001b[0m\u001b[0;34m(\u001b[0m\u001b[0;34mf'https://api.breezometer.com/air-quality/v2/historical/hourly?lat={lat}&lon={lon}&key=bf0e6728087241539fc0c8fb0d4848fc&hours=48'\u001b[0m\u001b[0;34m)\u001b[0m\u001b[0;34m.\u001b[0m\u001b[0mjson\u001b[0m\u001b[0;34m\u001b[0m\u001b[0;34m\u001b[0m\u001b[0m\n\u001b[1;32m      4\u001b[0m     \u001b[0mcall_api\u001b[0m\u001b[0;34m\u001b[0m\u001b[0;34m\u001b[0m\u001b[0m\n\u001b[1;32m      5\u001b[0m \u001b[0;34m\u001b[0m\u001b[0m\n",
      "\u001b[0;31mNameError\u001b[0m: name 'locations' is not defined"
     ]
    }
   ],
   "source": [
    "#Collecting Data for our chosen Boroughs\n",
    "for location in locations:\n",
    "    call_api = requests.get(f'https://api.breezometer.com/air-quality/v2/historical/hourly?lat={lat}&lon={lon}&key=bf0e6728087241539fc0c8fb0d4848fc&hours=48').json\n",
    "    call_api\n",
    "    \n",
    "for x in results:\n",
    "    data = a['data'][x]['indexes']['baqi']['aqi']\n",
    "    data2 = a['data'][x]['indexes']['baqi']['category']"
   ]
  },
  {
   "cell_type": "code",
   "execution_count": null,
   "metadata": {},
   "outputs": [],
   "source": [
    "a['data'][0]['indexes']['baqi']['aqi']\n",
    "a['data'][0]['indexes']['baqi']['category']"
   ]
  },
  {
   "cell_type": "code",
   "execution_count": 33,
   "metadata": {},
   "outputs": [
    {
     "name": "stdout",
     "output_type": "stream",
     "text": [
      "{'metadata': None, 'data': None, 'error': {'code': 'daily_limit_exceeded', 'title': 'Daily query limit exceeded', 'detail': 'Daily query limit exceeded'}}\n",
      "{'metadata': None, 'data': None, 'error': {'code': 'daily_limit_exceeded', 'title': 'Daily query limit exceeded', 'detail': 'Daily query limit exceeded'}}\n"
     ]
    },
    {
     "data": {
      "text/plain": [
       "[]"
      ]
     },
     "execution_count": 33,
     "metadata": {},
     "output_type": "execute_result"
    }
   ],
   "source": [
    "urls = []\n",
    "\n",
    "for x, y in lat, long:\n",
    "    l = requests.get(f\"https://api.breezometer.com/air-quality/v2/historical/hourly?lat={x}&lon={y}&key=bf0e6728087241539fc0c8fb0d4848fc&hours=48\").json()\n",
    "    print(l)\n",
    "    #     data = l['data'][0]['indexes']['baqi']['aqi']\n",
    "    #     a = requests.get(l).json\n",
    "#     a\n",
    "#     data = a['data'][x]['indexes']['baqi']['aqi']\n",
    "#     print(data)\n",
    "    \n",
    "# for stamp in stamps:\n",
    "#     call_weather = requests.get(f\"https://api.darksky.net/forecast/4b592733b07f4d93b5f8e9f7b1daf53f/52.5200,13.4050,{stamp}\").json()\n",
    "#     print(call_weather)\n",
    "#     weather_type=call_weather[\"currently\"][\"summary\"]\n",
    "#     weather_dates[date]=weather_type\n",
    "    \n",
    "    \n",
    "# a = requests.get(f'https://api.breezometer.com/air-quality/v2/historical/hourly?lat={x}&lon={y}&key=bf0e6728087241539fc0c8fb0d4848fc&hours=48').json\n",
    "#     urls.append(a)\n",
    "#     for url in urls:\n",
    "#         data = a['data'][x]['indexes']['baqi']['aqi']\n",
    "#         data2 = a['data'][x]['indexes']['baqi']['category']\n",
    "        \n",
    "urls"
   ]
  },
  {
   "cell_type": "code",
   "execution_count": null,
   "metadata": {},
   "outputs": [],
   "source": []
  }
 ],
 "metadata": {
  "kernelspec": {
   "display_name": "Python 3",
   "language": "python",
   "name": "python3"
  },
  "language_info": {
   "codemirror_mode": {
    "name": "ipython",
    "version": 3
   },
   "file_extension": ".py",
   "mimetype": "text/x-python",
   "name": "python",
   "nbconvert_exporter": "python",
   "pygments_lexer": "ipython3",
   "version": "3.7.3"
  }
 },
 "nbformat": 4,
 "nbformat_minor": 2
}
