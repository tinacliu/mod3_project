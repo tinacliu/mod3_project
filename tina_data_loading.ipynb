{
 "cells": [
  {
   "cell_type": "markdown",
   "metadata": {},
   "source": [
    "<center><h2> Module 3 Project</h2></center>\n",
    "<center><h2> Data Loading & Cleaning</h2></center>\n",
    "\n"
   ]
  },
  {
   "cell_type": "markdown",
   "metadata": {},
   "source": [
    "In terms of our dataset, we are combing data on the boroughs of London, together with air quality and pollent data, to advise potential homebuyers.\n",
    "\n",
    "The borough related data contains 85 columns, including demographic data. However we are only keeping 19 columns, in particular these columns are related \n",
    "\n",
    "<h4>(1) potential drivers of air quality</h4>\n",
    "\n",
    "- Population density (per hectare) 2016\n",
    "- % of area that is Greenspace, 2005\n",
    "- Total carbon emissions (2013)\n",
    "- Number of cars, (2011 Census)\n",
    "\n",
    "<h4>(2) factual info that potential homebuyers would be interested to know</h4>\n",
    "\n",
    "- Unemployment rate (2015)\n",
    "- Number of active businesses, 2014\n",
    "- Crime rates per thousand population 2014/15\n",
    "- Median House Price, 2014\n",
    "- Average Band D Council Tax charge (£), 2015/16\n",
    "- Rented from Local Authority or Housing Association, (2014) %\n",
    "- Average Public Transport Accessibility score, 2014\n",
    "- Achievement of 5 or more A*- C grades at GCSE or equivalent including English and Maths, 2013/14\n",
    "- Political control in council\n",
    "\n",
    "<h4>(3) Survey data of residents</h4>\n",
    "\n",
    "- Life satisfaction score 2011-14 (out of 10)\n",
    "- Happiness score 2011-14 (out of 10)\n",
    "- Anxiety score 2011-14 (out of 10)\n"
   ]
  },
  {
   "cell_type": "code",
   "execution_count": 2,
   "metadata": {},
   "outputs": [],
   "source": [
    "%load_ext autoreload\n",
    "%autoreload 2"
   ]
  },
  {
   "cell_type": "code",
   "execution_count": 16,
   "metadata": {},
   "outputs": [],
   "source": [
    "import pandas as pd\n",
    "import data_cleaning as dc\n",
    "import api\n",
    "import numpy as np\n",
    "import statistics as stats\n",
    "\n",
    "import matplotlib.pyplot as plt\n",
    "import seaborn as sns"
   ]
  },
  {
   "cell_type": "code",
   "execution_count": 8,
   "metadata": {},
   "outputs": [],
   "source": [
    "# RUN THIS ONLY ONCE, afterwards, read_csv\n",
    "borough_data = dc.full_clean()\n",
    "# borough_data = pd.read_csv('./data/borough_data_cleaned_coordi.csv',index_col=0)"
   ]
  },
  {
   "cell_type": "code",
   "execution_count": 5,
   "metadata": {},
   "outputs": [
    {
     "data": {
      "text/html": [
       "<div>\n",
       "<style scoped>\n",
       "    .dataframe tbody tr th:only-of-type {\n",
       "        vertical-align: middle;\n",
       "    }\n",
       "\n",
       "    .dataframe tbody tr th {\n",
       "        vertical-align: top;\n",
       "    }\n",
       "\n",
       "    .dataframe thead th {\n",
       "        text-align: right;\n",
       "    }\n",
       "</style>\n",
       "<table border=\"1\" class=\"dataframe\">\n",
       "  <thead>\n",
       "    <tr style=\"text-align: right;\">\n",
       "      <th></th>\n",
       "      <th>code</th>\n",
       "      <th>area</th>\n",
       "      <th>inner_outer</th>\n",
       "      <th>population</th>\n",
       "      <th>unemployment</th>\n",
       "      <th>active_business</th>\n",
       "      <th>crime</th>\n",
       "      <th>house_price</th>\n",
       "      <th>council_tax</th>\n",
       "      <th>council_rental</th>\n",
       "      <th>greenspace</th>\n",
       "      <th>carbon_emmision</th>\n",
       "      <th>cars</th>\n",
       "      <th>pub_transport</th>\n",
       "      <th>achievement</th>\n",
       "      <th>life</th>\n",
       "      <th>happiness</th>\n",
       "      <th>anxiety</th>\n",
       "      <th>political</th>\n",
       "      <th>coordi</th>\n",
       "    </tr>\n",
       "  </thead>\n",
       "  <tbody>\n",
       "    <tr>\n",
       "      <th>0</th>\n",
       "      <td>E09000001</td>\n",
       "      <td>City of London</td>\n",
       "      <td>Inner London</td>\n",
       "      <td>28.9</td>\n",
       "      <td>.</td>\n",
       "      <td>19250</td>\n",
       "      <td>.</td>\n",
       "      <td>765000</td>\n",
       "      <td>943</td>\n",
       "      <td>.</td>\n",
       "      <td>4.8</td>\n",
       "      <td>1417.5</td>\n",
       "      <td>1692</td>\n",
       "      <td>7.9</td>\n",
       "      <td>78.6</td>\n",
       "      <td>6.59</td>\n",
       "      <td>5.99</td>\n",
       "      <td>5.57</td>\n",
       "      <td>.</td>\n",
       "      <td>[[51.513988, -0.104885]]</td>\n",
       "    </tr>\n",
       "    <tr>\n",
       "      <th>1</th>\n",
       "      <td>E09000002</td>\n",
       "      <td>Barking and Dagenham</td>\n",
       "      <td>Outer London</td>\n",
       "      <td>57.3</td>\n",
       "      <td>11</td>\n",
       "      <td>5690</td>\n",
       "      <td>83.4</td>\n",
       "      <td>215000</td>\n",
       "      <td>1332</td>\n",
       "      <td>35.9</td>\n",
       "      <td>33.6</td>\n",
       "      <td>783.2</td>\n",
       "      <td>56966</td>\n",
       "      <td>3.0</td>\n",
       "      <td>58.0</td>\n",
       "      <td>7.14</td>\n",
       "      <td>7.05</td>\n",
       "      <td>3.05</td>\n",
       "      <td>Lab</td>\n",
       "      <td>[[51.55903, 0.155831]]</td>\n",
       "    </tr>\n",
       "    <tr>\n",
       "      <th>2</th>\n",
       "      <td>E09000003</td>\n",
       "      <td>Barnet</td>\n",
       "      <td>Outer London</td>\n",
       "      <td>44.5</td>\n",
       "      <td>8.5</td>\n",
       "      <td>24555</td>\n",
       "      <td>62.7</td>\n",
       "      <td>400000</td>\n",
       "      <td>1397</td>\n",
       "      <td>11.1</td>\n",
       "      <td>41.3</td>\n",
       "      <td>1552.7</td>\n",
       "      <td>144717</td>\n",
       "      <td>3.0</td>\n",
       "      <td>67.3</td>\n",
       "      <td>7.48</td>\n",
       "      <td>7.37</td>\n",
       "      <td>2.75</td>\n",
       "      <td>Cons</td>\n",
       "      <td>[[51.658724, -0.190878]]</td>\n",
       "    </tr>\n",
       "    <tr>\n",
       "      <th>3</th>\n",
       "      <td>E09000004</td>\n",
       "      <td>Bexley</td>\n",
       "      <td>Outer London</td>\n",
       "      <td>39.9</td>\n",
       "      <td>7.6</td>\n",
       "      <td>8430</td>\n",
       "      <td>51.8</td>\n",
       "      <td>250000</td>\n",
       "      <td>1446</td>\n",
       "      <td>15.2</td>\n",
       "      <td>31.7</td>\n",
       "      <td>1060.9</td>\n",
       "      <td>108507</td>\n",
       "      <td>2.6</td>\n",
       "      <td>60.3</td>\n",
       "      <td>7.38</td>\n",
       "      <td>7.21</td>\n",
       "      <td>3.29</td>\n",
       "      <td>Cons</td>\n",
       "      <td>[[51.4589, 0.1384]]</td>\n",
       "    </tr>\n",
       "    <tr>\n",
       "      <th>4</th>\n",
       "      <td>E09000005</td>\n",
       "      <td>Brent</td>\n",
       "      <td>Outer London</td>\n",
       "      <td>76.1</td>\n",
       "      <td>7.5</td>\n",
       "      <td>14680</td>\n",
       "      <td>78.8</td>\n",
       "      <td>385000</td>\n",
       "      <td>1354</td>\n",
       "      <td>20.4</td>\n",
       "      <td>21.9</td>\n",
       "      <td>1292.6</td>\n",
       "      <td>87802</td>\n",
       "      <td>3.7</td>\n",
       "      <td>60.1</td>\n",
       "      <td>7.25</td>\n",
       "      <td>7.22</td>\n",
       "      <td>2.92</td>\n",
       "      <td>Lab</td>\n",
       "      <td>[[51.62028, 0.305]]</td>\n",
       "    </tr>\n",
       "  </tbody>\n",
       "</table>\n",
       "</div>"
      ],
      "text/plain": [
       "        code                  area   inner_outer  population unemployment  \\\n",
       "0  E09000001        City of London  Inner London        28.9            .   \n",
       "1  E09000002  Barking and Dagenham  Outer London        57.3           11   \n",
       "2  E09000003                Barnet  Outer London        44.5          8.5   \n",
       "3  E09000004                Bexley  Outer London        39.9          7.6   \n",
       "4  E09000005                 Brent  Outer London        76.1          7.5   \n",
       "\n",
       "   active_business crime  house_price  council_tax council_rental  greenspace  \\\n",
       "0            19250     .       765000          943              .         4.8   \n",
       "1             5690  83.4       215000         1332           35.9        33.6   \n",
       "2            24555  62.7       400000         1397           11.1        41.3   \n",
       "3             8430  51.8       250000         1446           15.2        31.7   \n",
       "4            14680  78.8       385000         1354           20.4        21.9   \n",
       "\n",
       "   carbon_emmision    cars  pub_transport  achievement  life  happiness  \\\n",
       "0           1417.5    1692            7.9         78.6  6.59       5.99   \n",
       "1            783.2   56966            3.0         58.0  7.14       7.05   \n",
       "2           1552.7  144717            3.0         67.3  7.48       7.37   \n",
       "3           1060.9  108507            2.6         60.3  7.38       7.21   \n",
       "4           1292.6   87802            3.7         60.1  7.25       7.22   \n",
       "\n",
       "   anxiety political                    coordi  \n",
       "0     5.57         .  [[51.513988, -0.104885]]  \n",
       "1     3.05       Lab    [[51.55903, 0.155831]]  \n",
       "2     2.75      Cons  [[51.658724, -0.190878]]  \n",
       "3     3.29      Cons       [[51.4589, 0.1384]]  \n",
       "4     2.92       Lab       [[51.62028, 0.305]]  "
      ]
     },
     "execution_count": 5,
     "metadata": {},
     "output_type": "execute_result"
    }
   ],
   "source": [
    "# borough_data.head()"
   ]
  },
  {
   "cell_type": "code",
   "execution_count": 12,
   "metadata": {},
   "outputs": [],
   "source": [
    "\n",
    "# RUN THIS ONLY ONCE, afterwards, read_csv\n",
    "# dc.aqi_data(borough_data, 24)\n",
    "aqi = pd.read_csv('./data/borough_data_cleaned_aqi.csv',index_col=0)\n",
    "\n",
    "# after reading the saved aqi data, turn it into a list and calcualte mean and average\n",
    "aqi.aqi_24 = aqi.aqi_24.map(lambda x: [int(i) for i in x[1:-1].split(', ')])\n",
    "aqi['aqi_mean'] = aqi.aqi_24.map(lambda x: np.asarray(x).mean())\n",
    "aqi['aqi_med'] = aqi.aqi_24.map(lambda x: stats.median(x))"
   ]
  },
  {
   "cell_type": "code",
   "execution_count": 13,
   "metadata": {},
   "outputs": [
    {
     "data": {
      "text/html": [
       "<div>\n",
       "<style scoped>\n",
       "    .dataframe tbody tr th:only-of-type {\n",
       "        vertical-align: middle;\n",
       "    }\n",
       "\n",
       "    .dataframe tbody tr th {\n",
       "        vertical-align: top;\n",
       "    }\n",
       "\n",
       "    .dataframe thead th {\n",
       "        text-align: right;\n",
       "    }\n",
       "</style>\n",
       "<table border=\"1\" class=\"dataframe\">\n",
       "  <thead>\n",
       "    <tr style=\"text-align: right;\">\n",
       "      <th></th>\n",
       "      <th>code</th>\n",
       "      <th>area</th>\n",
       "      <th>inner_outer</th>\n",
       "      <th>population</th>\n",
       "      <th>unemployment</th>\n",
       "      <th>active_business</th>\n",
       "      <th>crime</th>\n",
       "      <th>house_price</th>\n",
       "      <th>council_tax</th>\n",
       "      <th>council_rental</th>\n",
       "      <th>...</th>\n",
       "      <th>pub_transport</th>\n",
       "      <th>achievement</th>\n",
       "      <th>life</th>\n",
       "      <th>happiness</th>\n",
       "      <th>anxiety</th>\n",
       "      <th>political</th>\n",
       "      <th>coordi</th>\n",
       "      <th>aqi_24</th>\n",
       "      <th>aqi_mean</th>\n",
       "      <th>aqi_med</th>\n",
       "    </tr>\n",
       "  </thead>\n",
       "  <tbody>\n",
       "    <tr>\n",
       "      <th>0</th>\n",
       "      <td>E09000001</td>\n",
       "      <td>City of London</td>\n",
       "      <td>Inner London</td>\n",
       "      <td>28.9</td>\n",
       "      <td>.</td>\n",
       "      <td>19250</td>\n",
       "      <td>.</td>\n",
       "      <td>765000</td>\n",
       "      <td>943</td>\n",
       "      <td>.</td>\n",
       "      <td>...</td>\n",
       "      <td>7.9</td>\n",
       "      <td>78.6</td>\n",
       "      <td>6.59</td>\n",
       "      <td>5.99</td>\n",
       "      <td>5.57</td>\n",
       "      <td>.</td>\n",
       "      <td>[[51.513988, -0.104885]]</td>\n",
       "      <td>[69, 70, 65, 57, 76, 71, 74, 79, 78, 81, 81, 8...</td>\n",
       "      <td>74.666667</td>\n",
       "      <td>77.5</td>\n",
       "    </tr>\n",
       "    <tr>\n",
       "      <th>1</th>\n",
       "      <td>E09000002</td>\n",
       "      <td>Barking and Dagenham</td>\n",
       "      <td>Outer London</td>\n",
       "      <td>57.3</td>\n",
       "      <td>11</td>\n",
       "      <td>5690</td>\n",
       "      <td>83.4</td>\n",
       "      <td>215000</td>\n",
       "      <td>1332</td>\n",
       "      <td>35.9</td>\n",
       "      <td>...</td>\n",
       "      <td>3.0</td>\n",
       "      <td>58.0</td>\n",
       "      <td>7.14</td>\n",
       "      <td>7.05</td>\n",
       "      <td>3.05</td>\n",
       "      <td>Lab</td>\n",
       "      <td>[[51.55903, 0.155831]]</td>\n",
       "      <td>[79, 75, 67, 72, 68, 74, 79, 78, 79, 85, 84, 8...</td>\n",
       "      <td>78.416667</td>\n",
       "      <td>79.0</td>\n",
       "    </tr>\n",
       "    <tr>\n",
       "      <th>2</th>\n",
       "      <td>E09000003</td>\n",
       "      <td>Barnet</td>\n",
       "      <td>Outer London</td>\n",
       "      <td>44.5</td>\n",
       "      <td>8.5</td>\n",
       "      <td>24555</td>\n",
       "      <td>62.7</td>\n",
       "      <td>400000</td>\n",
       "      <td>1397</td>\n",
       "      <td>11.1</td>\n",
       "      <td>...</td>\n",
       "      <td>3.0</td>\n",
       "      <td>67.3</td>\n",
       "      <td>7.48</td>\n",
       "      <td>7.37</td>\n",
       "      <td>2.75</td>\n",
       "      <td>Cons</td>\n",
       "      <td>[[51.658724, -0.190878]]</td>\n",
       "      <td>[82, 83, 85, 89, 88, 89, 87, 87, 89, 87, 84, 8...</td>\n",
       "      <td>86.375000</td>\n",
       "      <td>87.0</td>\n",
       "    </tr>\n",
       "  </tbody>\n",
       "</table>\n",
       "<p>3 rows × 23 columns</p>\n",
       "</div>"
      ],
      "text/plain": [
       "        code                  area   inner_outer  population unemployment  \\\n",
       "0  E09000001        City of London  Inner London        28.9            .   \n",
       "1  E09000002  Barking and Dagenham  Outer London        57.3           11   \n",
       "2  E09000003                Barnet  Outer London        44.5          8.5   \n",
       "\n",
       "   active_business crime  house_price  council_tax council_rental  ...  \\\n",
       "0            19250     .       765000          943              .  ...   \n",
       "1             5690  83.4       215000         1332           35.9  ...   \n",
       "2            24555  62.7       400000         1397           11.1  ...   \n",
       "\n",
       "   pub_transport  achievement  life  happiness  anxiety  political  \\\n",
       "0            7.9         78.6  6.59       5.99     5.57          .   \n",
       "1            3.0         58.0  7.14       7.05     3.05        Lab   \n",
       "2            3.0         67.3  7.48       7.37     2.75       Cons   \n",
       "\n",
       "                     coordi  \\\n",
       "0  [[51.513988, -0.104885]]   \n",
       "1    [[51.55903, 0.155831]]   \n",
       "2  [[51.658724, -0.190878]]   \n",
       "\n",
       "                                              aqi_24   aqi_mean aqi_med  \n",
       "0  [69, 70, 65, 57, 76, 71, 74, 79, 78, 81, 81, 8...  74.666667    77.5  \n",
       "1  [79, 75, 67, 72, 68, 74, 79, 78, 79, 85, 84, 8...  78.416667    79.0  \n",
       "2  [82, 83, 85, 89, 88, 89, 87, 87, 89, 87, 84, 8...  86.375000    87.0  \n",
       "\n",
       "[3 rows x 23 columns]"
      ]
     },
     "execution_count": 13,
     "metadata": {},
     "output_type": "execute_result"
    }
   ],
   "source": [
    "aqi.head(3)"
   ]
  },
  {
   "cell_type": "code",
   "execution_count": null,
   "metadata": {},
   "outputs": [],
   "source": []
  },
  {
   "cell_type": "code",
   "execution_count": 213,
   "metadata": {},
   "outputs": [
    {
     "data": {
      "image/png": "[encoded data removed]",
      "text/plain": [
       "<Figure size 432x288 with 2 Axes>"
      ]
     },
     "metadata": {
      "needs_background": "light"
     },
     "output_type": "display_data"
    },
    {
     "data": {
      "image/png": "[encoded data removed]",
      "text/plain": [
       "<Figure size 432x288 with 2 Axes>"
      ]
     },
     "metadata": {
      "needs_background": "light"
     },
     "output_type": "display_data"
    },
    {
     "data": {
      "image/png": "[encoded data removed]",
      "text/plain": [
       "<Figure size 432x288 with 2 Axes>"
      ]
     },
     "metadata": {
      "needs_background": "light"
     },
     "output_type": "display_data"
    },
    {
     "data": {
      "image/png": "[encoded data removed]",
      "text/plain": [
       "<Figure size 432x288 with 2 Axes>"
      ]
     },
     "metadata": {
      "needs_background": "light"
     },
     "output_type": "display_data"
    },
    {
     "data": {
      "image/png": "[encoded data removed]",
      "text/plain": [
       "<Figure size 432x288 with 2 Axes>"
      ]
     },
     "metadata": {
      "needs_background": "light"
     },
     "output_type": "display_data"
    }
   ],
   "source": [
    "aqi.plot.scatter('greenspace', 'aqi_mean', c = 'house_price', colormap = 'rainbow')\n",
    "aqi.plot.scatter('population', 'aqi_mean', c = 'house_price', colormap = 'rainbow')\n",
    "aqi.plot.scatter('cars', 'aqi_mean', c = 'house_price', colormap = 'rainbow')\n",
    "\n",
    "aqi.plot.scatter('achievement', 'house_price', c = 'aqi_mean', colormap = 'rainbow')\n",
    "aqi.plot.scatter('pub_transport', 'house_price', c = 'aqi_mean', colormap = 'rainbow')\n",
    "plt.show()\n"
   ]
  },
  {
   "cell_type": "markdown",
   "metadata": {},
   "source": [
    "\n",
    "#### EDA on AQI and something else"
   ]
  },
  {
   "cell_type": "code",
   "execution_count": 26,
   "metadata": {},
   "outputs": [
    {
     "data": {
      "text/plain": [
       "<matplotlib.collections.PathCollection at 0x1a163c9240>"
      ]
     },
     "execution_count": 26,
     "metadata": {},
     "output_type": "execute_result"
    },
    {
     "data": {
      "image/png": "[encoded data removed]",
      "text/plain": [
       "<Figure size 432x288 with 1 Axes>"
      ]
     },
     "metadata": {
      "needs_background": "light"
     },
     "output_type": "display_data"
    }
   ],
   "source": [
    "# plt.scatter(aqi.house_price, aqi.anxiety)\n",
    "plt.scatter(aqi.political, aqi.house_price)"
   ]
  },
  {
   "cell_type": "code",
   "execution_count": 17,
   "metadata": {},
   "outputs": [
    {
     "data": {
      "text/plain": [
       "<matplotlib.collections.PathCollection at 0x1a16155ac8>"
      ]
     },
     "execution_count": 17,
     "metadata": {},
     "output_type": "execute_result"
    },
    {
     "data": {
      "image/png": "[encoded data removed]",
      "text/plain": [
       "<Figure size 432x288 with 1 Axes>"
      ]
     },
     "metadata": {
      "needs_background": "light"
     },
     "output_type": "display_data"
    }
   ],
   "source": [
    "plt.scatter(aqi.inner_outer, aqi.aqi_mean)"
   ]
  },
  {
   "cell_type": "markdown",
   "metadata": {},
   "source": [
    "#### Testing the API"
   ]
  },
  {
   "cell_type": "code",
   "execution_count": 5,
   "metadata": {},
   "outputs": [],
   "source": [
    "import api\n",
    "\n",
    "aqi_test = api.get_place_aqi(borough_data, 'Brent',3)\n",
    "# df.to_csv('./data/borough_data_cleaned_aqi.csv')"
   ]
  },
  {
   "cell_type": "code",
   "execution_count": 7,
   "metadata": {},
   "outputs": [
    {
     "name": "stdout",
     "output_type": "stream",
     "text": [
      "3\n"
     ]
    },
    {
     "data": {
      "text/plain": [
       "[63, 62, 57]"
      ]
     },
     "execution_count": 7,
     "metadata": {},
     "output_type": "execute_result"
    }
   ],
   "source": [
    "print(len(aqi_test))\n",
    "aqi_test"
   ]
  },
  {
   "cell_type": "markdown",
   "metadata": {},
   "source": [
    "\n"
   ]
  },
  {
   "cell_type": "code",
   "execution_count": null,
   "metadata": {},
   "outputs": [],
   "source": []
  },
  {
   "cell_type": "code",
   "execution_count": null,
   "metadata": {},
   "outputs": [],
   "source": []
  },
  {
   "cell_type": "code",
   "execution_count": null,
   "metadata": {},
   "outputs": [],
   "source": []
  },
  {
   "cell_type": "code",
   "execution_count": null,
   "metadata": {},
   "outputs": [],
   "source": []
  },
  {
   "cell_type": "code",
   "execution_count": null,
   "metadata": {},
   "outputs": [],
   "source": []
  },
  {
   "cell_type": "code",
   "execution_count": 39,
   "metadata": {},
   "outputs": [],
   "source": []
  },
  {
   "cell_type": "code",
   "execution_count": null,
   "metadata": {},
   "outputs": [],
   "source": []
  },
  {
   "cell_type": "code",
   "execution_count": null,
   "metadata": {},
   "outputs": [],
   "source": []
  },
  {
   "cell_type": "code",
   "execution_count": null,
   "metadata": {},
   "outputs": [],
   "source": []
  },
  {
   "cell_type": "code",
   "execution_count": null,
   "metadata": {},
   "outputs": [],
   "source": [
    "\n"
   ]
  },
  {
   "cell_type": "markdown",
   "metadata": {},
   "source": [
    "Story we're trying to tell:\n",
    "\n",
    "Aimed at informing potential house buyers about air quality of diff boroughs, considering other demographic like median house price.\n",
    "\n",
    "EDA - the more expensive houses seem to have better school grades achieved. However the better air quality places seem to be in the lower end of price.\n",
    "\n",
    "Looking at air quality, seems to be more related to amount of greenspace. We use hypothesis to test if there is a real difference in air quality between most expensive vs. most affordable borough in London.\n",
    "\n",
    "Inner london vs. outer london.\n",
    "\n",
    "borough with most green space versus least greenspace."
   ]
  }
 ],
 "metadata": {
  "kernelspec": {
   "display_name": "Python 3",
   "language": "python",
   "name": "python3"
  },
  "language_info": {
   "codemirror_mode": {
    "name": "ipython",
    "version": 3
   },
   "file_extension": ".py",
   "mimetype": "text/x-python",
   "name": "python",
   "nbconvert_exporter": "python",
   "pygments_lexer": "ipython3",
   "version": "3.7.3"
  }
 },
 "nbformat": 4,
 "nbformat_minor": 4
}
